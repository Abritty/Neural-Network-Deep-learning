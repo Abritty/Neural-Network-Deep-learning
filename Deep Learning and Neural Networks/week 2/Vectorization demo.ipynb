{
 "cells": [
  {
   "cell_type": "code",
   "execution_count": 1,
   "metadata": {},
   "outputs": [],
   "source": [
    "import numpy as np"
   ]
  },
  {
   "cell_type": "code",
   "execution_count": 2,
   "metadata": {},
   "outputs": [
    {
     "name": "stdout",
     "output_type": "stream",
     "text": [
      "[1 2 3 4 5 6 7 8]\n"
     ]
    }
   ],
   "source": [
    "a = np.array([1,2,3,4,5,6,7,8])\n",
    "print(a)"
   ]
  },
  {
   "cell_type": "code",
   "execution_count": 3,
   "metadata": {},
   "outputs": [],
   "source": [
    "import time"
   ]
  },
  {
   "cell_type": "code",
   "execution_count": 10,
   "metadata": {},
   "outputs": [
    {
     "name": "stdout",
     "output_type": "stream",
     "text": [
      "Vector Value : 2506.8242652428034\n",
      "Vectorized Version :0.9996891021728516ms\n",
      "For Value : 2506.8242652428025\n",
      "Explicit Version :17.99464225769043ms\n"
     ]
    }
   ],
   "source": [
    "a = np.random.rand(10000)\n",
    "b = np.random.rand(10000)\n",
    "\n",
    "tic = time.time()\n",
    "c= np.dot(a,b)\n",
    "toc = time.time()\n",
    "\n",
    "print(\"Vector Value :\",c)\n",
    "print(\"Vectorized Version :\" + str(1000*(toc-tic)) + \"ms\")\n",
    "\n",
    "c = 0\n",
    "tic_f = time.time()\n",
    "\n",
    "for i in range(10000):\n",
    "    c += a[i]*b[i]\n",
    "toc_f = time.time()\n",
    "\n",
    "print(\"For Value :\",c)\n",
    "print(\"Explicit Version :\" + str(1000*(toc_f-tic_f)) + \"ms\")\n",
    "\n"
   ]
  },
  {
   "cell_type": "code",
   "execution_count": null,
   "metadata": {},
   "outputs": [],
   "source": []
  }
 ],
 "metadata": {
  "kernelspec": {
   "display_name": "Python 3",
   "language": "python",
   "name": "python3"
  },
  "language_info": {
   "codemirror_mode": {
    "name": "ipython",
    "version": 3
   },
   "file_extension": ".py",
   "mimetype": "text/x-python",
   "name": "python",
   "nbconvert_exporter": "python",
   "pygments_lexer": "ipython3",
   "version": "3.7.7"
  }
 },
 "nbformat": 4,
 "nbformat_minor": 4
}
