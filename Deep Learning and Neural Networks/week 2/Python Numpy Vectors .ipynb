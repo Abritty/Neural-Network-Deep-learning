{
 "cells": [
  {
   "cell_type": "code",
   "execution_count": 1,
   "metadata": {},
   "outputs": [],
   "source": [
    "import numpy as np "
   ]
  },
  {
   "cell_type": "code",
   "execution_count": 2,
   "metadata": {},
   "outputs": [
    {
     "name": "stdout",
     "output_type": "stream",
     "text": [
      "[-0.49979936  0.58180369 -0.01197106  0.89098541  1.82040112]\n"
     ]
    }
   ],
   "source": [
    "a = np.random.randn(5) #stores 5 random Gaussian Variable \n",
    "print(a)"
   ]
  },
  {
   "cell_type": "code",
   "execution_count": 3,
   "metadata": {},
   "outputs": [
    {
     "name": "stdout",
     "output_type": "stream",
     "text": [
      "(5,)\n"
     ]
    }
   ],
   "source": [
    "print(a.shape)"
   ]
  },
  {
   "cell_type": "code",
   "execution_count": 4,
   "metadata": {},
   "outputs": [
    {
     "name": "stdout",
     "output_type": "stream",
     "text": [
      "[-0.49979936  0.58180369 -0.01197106  0.89098541  1.82040112]\n"
     ]
    }
   ],
   "source": [
    "#its neither coloumn nor row vector \n",
    "#Let's transpose a,it will look the same \n",
    "print(a.T)\n",
    "\n"
   ]
  },
  {
   "cell_type": "code",
   "execution_count": 5,
   "metadata": {},
   "outputs": [
    {
     "name": "stdout",
     "output_type": "stream",
     "text": [
      "4.696153479977589\n"
     ]
    }
   ],
   "source": [
    "print(np.dot(a,a.T))"
   ]
  },
  {
   "cell_type": "markdown",
   "metadata": {},
   "source": [
    "# More practical approach"
   ]
  },
  {
   "cell_type": "code",
   "execution_count": 6,
   "metadata": {},
   "outputs": [
    {
     "name": "stdout",
     "output_type": "stream",
     "text": [
      "[[ 0.32161183]\n",
      " [-0.01406373]\n",
      " [-1.73485669]\n",
      " [ 0.62547181]\n",
      " [ 0.24544314]]\n"
     ]
    }
   ],
   "source": [
    "a = np.random.randn(5,1)\n",
    "print(a)"
   ]
  },
  {
   "cell_type": "code",
   "execution_count": 7,
   "metadata": {},
   "outputs": [
    {
     "name": "stdout",
     "output_type": "stream",
     "text": [
      "[[ 0.32161183 -0.01406373 -1.73485669  0.62547181  0.24544314]]\n"
     ]
    }
   ],
   "source": [
    "print(a.T)"
   ]
  },
  {
   "cell_type": "code",
   "execution_count": 8,
   "metadata": {},
   "outputs": [
    {
     "name": "stdout",
     "output_type": "stream",
     "text": [
      "[[ 1.03434172e-01 -4.52306256e-03 -5.57950443e-01  2.01159135e-01\n",
      "   7.89374195e-02]\n",
      " [-4.52306256e-03  1.97788551e-04  2.43985592e-02 -8.79646770e-03\n",
      "  -3.45184653e-03]\n",
      " [-5.57950443e-01  2.43985592e-02  3.00972775e+00 -1.08510395e+00\n",
      "  -4.25808680e-01]\n",
      " [ 2.01159135e-01 -8.79646770e-03 -1.08510395e+00  3.91214980e-01\n",
      "   1.53517766e-01]\n",
      " [ 7.89374195e-02 -3.45184653e-03 -4.25808680e-01  1.53517766e-01\n",
      "   6.02423366e-02]]\n"
     ]
    }
   ],
   "source": [
    "print(np.dot(a,a.T))"
   ]
  },
  {
   "cell_type": "code",
   "execution_count": null,
   "metadata": {},
   "outputs": [],
   "source": []
  }
 ],
 "metadata": {
  "kernelspec": {
   "display_name": "Python 3",
   "language": "python",
   "name": "python3"
  },
  "language_info": {
   "codemirror_mode": {
    "name": "ipython",
    "version": 3
   },
   "file_extension": ".py",
   "mimetype": "text/x-python",
   "name": "python",
   "nbconvert_exporter": "python",
   "pygments_lexer": "ipython3",
   "version": "3.7.7"
  }
 },
 "nbformat": 4,
 "nbformat_minor": 4
}
