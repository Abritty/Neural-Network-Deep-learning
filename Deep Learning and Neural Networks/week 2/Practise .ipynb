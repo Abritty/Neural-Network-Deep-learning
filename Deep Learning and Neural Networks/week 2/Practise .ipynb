{
 "cells": [
  {
   "cell_type": "code",
   "execution_count": 3,
   "metadata": {},
   "outputs": [
    {
     "name": "stdout",
     "output_type": "stream",
     "text": [
      "(12288, 45)\n"
     ]
    }
   ],
   "source": [
    "import numpy as np\n",
    "a= np.random.randn(12288,150)\n",
    "b= np.random.randn(150,45)\n",
    "c= np.dot(a,b)\n",
    "print(c.shape)"
   ]
  },
  {
   "cell_type": "code",
   "execution_count": 9,
   "metadata": {},
   "outputs": [
    {
     "name": "stdout",
     "output_type": "stream",
     "text": [
      "[[-0.45993049  0.35638607 -1.63633946]\n",
      " [-1.87973921 -1.27777559 -0.73077922]\n",
      " [ 0.1460325   0.25655269 -1.23495757]]\n",
      "[[-1.13893476]\n",
      " [ 1.06173815]\n",
      " [ 0.54739808]]\n",
      "[[ 0.52383083 -0.40590048  1.86368389]\n",
      " [-1.99579083 -1.35666309 -0.77589617]\n",
      " [ 0.07993791  0.14043645 -0.6760134 ]]\n"
     ]
    }
   ],
   "source": [
    "import numpy as np\n",
    "a= np.random.randn(3,3)\n",
    "b= np.random.randn(3,1)\n",
    "c= a*b\n",
    "print(a)\n",
    "print(b)\n",
    "print(c)\n"
   ]
  },
  {
   "cell_type": "code",
   "execution_count": null,
   "metadata": {},
   "outputs": [],
   "source": []
  }
 ],
 "metadata": {
  "kernelspec": {
   "display_name": "Python 3",
   "language": "python",
   "name": "python3"
  },
  "language_info": {
   "codemirror_mode": {
    "name": "ipython",
    "version": 3
   },
   "file_extension": ".py",
   "mimetype": "text/x-python",
   "name": "python",
   "nbconvert_exporter": "python",
   "pygments_lexer": "ipython3",
   "version": "3.7.7"
  }
 },
 "nbformat": 4,
 "nbformat_minor": 4
}
